{
 "cells": [
  {
   "cell_type": "code",
   "execution_count": 13,
   "metadata": {},
   "outputs": [],
   "source": [
    "import numpy as np\n",
    "from skimage.feature import graycomatrix, graycoprops\n",
    "from skimage import io, color, img_as_ubyte"
   ]
  },
  {
   "cell_type": "code",
   "execution_count": 14,
   "metadata": {},
   "outputs": [],
   "source": [
    "img = io.imread(\"./images/samac.jpg\")\n",
    "\n",
    "gray = color.rgb2gray(img)\n",
    "image = img_as_ubyte(gray)  # Becomes 8-bit unsigned integer"
   ]
  },
  {
   "cell_type": "code",
   "execution_count": 15,
   "metadata": {},
   "outputs": [],
   "source": [
    "# This step is similar to data compression, because the 8-bit image contains 256 gray levels, which will cause the calculation of the gray level co-occurrence matrix to be too large, so it is compressed into 16 levels and the gray levels are divided\n",
    "bins = np.array(\n",
    "   [0, 16, 32, 48, 64, 80, 96, 112, 128, 144, 160, 176, 192, 208, 224, 240, 255]\n",
    ")  # 16-bit\n",
    "inds = np.digitize(\n",
    "   image, bins\n",
    ")  # Returns a matrix with the same size as the image, but the matrix element represents the interval position of the element in the image in the bins, less than 0 is 0, 0-16 is 1, and so on"
   ]
  },
  {
   "cell_type": "code",
   "execution_count": 16,
   "metadata": {},
   "outputs": [],
   "source": [
    "max_value = inds.max() + 1\n",
    "matrix_coocurrence = graycomatrix(\n",
    "   inds,  # Numpy matrix for co-occurrence matrix calculation\n",
    "   [1],  # Step\n",
    "   [0, np.pi / 4, np.pi / 2, 3 * np.pi / 4],  # Direction angle\n",
    "   levels=max_value,  # Co-occurrence matrix order\n",
    "   normed=False,\n",
    "   symmetric=False,\n",
    ")\n",
    "# P[i,j,d,theta] returns a four-dimensional matrix, each dimension represents a different meaning"
   ]
  },
  {
   "cell_type": "code",
   "execution_count": 17,
   "metadata": {},
   "outputs": [],
   "source": [
    "# GLCM properties\n",
    "def contrast_feature(matrix_coocurrence):\n",
    "   contrast = graycoprops(matrix_coocurrence, \"contrast\")\n",
    "   return contrast\n",
    "\n",
    "\n",
    "def dissimilarity_feature(matrix_coocurrence):\n",
    "   dissimilarity = graycoprops(matrix_coocurrence, \"dissimilarity\")\n",
    "   return dissimilarity\n",
    "\n",
    "\n",
    "def homogeneity_feature(matrix_coocurrence):\n",
    "   homogeneity = graycoprops(matrix_coocurrence, \"homogeneity\")\n",
    "   return homogeneity\n",
    "\n",
    "\n",
    "def energy_feature(matrix_coocurrence):\n",
    "   energy = graycoprops(matrix_coocurrence, \"energy\")\n",
    "   return energy\n",
    "\n",
    "\n",
    "def correlation_feature(matrix_coocurrence):\n",
    "   correlation = graycoprops(matrix_coocurrence, \"correlation\")\n",
    "   return correlation\n",
    "\n",
    "\n",
    "def asm_feature(matrix_coocurrence):\n",
    "   asm = graycoprops(matrix_coocurrence, \"ASM\")\n",
    "   return asm"
   ]
  },
  {
   "cell_type": "code",
   "execution_count": 18,
   "metadata": {},
   "outputs": [],
   "source": [
    "Contrast_F = list(contrast_feature(matrix_coocurrence))\n",
    "Dissimilarity_F = list(dissimilarity_feature(matrix_coocurrence))\n",
    "Homogeneity_F = list(homogeneity_feature(matrix_coocurrence))\n",
    "Energy_F = list(energy_feature(matrix_coocurrence))\n",
    "Correlation_F = list(correlation_feature(matrix_coocurrence))\n",
    "ASM_F = list(asm_feature(matrix_coocurrence))"
   ]
  },
  {
   "cell_type": "code",
   "execution_count": 19,
   "metadata": {},
   "outputs": [],
   "source": [
    "import pandas as pd\n",
    "\n",
    "df = pd.DataFrame(\n",
    "    index=[\"ImageID\"],\n",
    "    columns=[\n",
    "        \"Contrast Feature\",\n",
    "        \"Dissimilarity Feature\",\n",
    "        \"Homogeneity Feature\",\n",
    "        \"Energy Feature\",\n",
    "        \"Correlation Feature\",\n",
    "        \"ASM Feature\",\n",
    "    ],\n",
    ")"
   ]
  },
  {
   "cell_type": "code",
   "execution_count": 20,
   "metadata": {},
   "outputs": [],
   "source": [
    "df['Contrast Feature'] = np.mean(Contrast_F)\n",
    "df['Dissimilarity Feature'] = np.mean(Dissimilarity_F)\n",
    "df['Homogeneity Feature'] = np.mean(Homogeneity_F)\n",
    "df['Energy Feature'] = np.mean(Energy_F)\n",
    "df['Correlation Feature'] = np.mean(Correlation_F)\n",
    "df['ASM Feature'] = np.mean(ASM_F)"
   ]
  },
  {
   "cell_type": "code",
   "execution_count": 21,
   "metadata": {},
   "outputs": [],
   "source": [
    "Features = [\n",
    "    \"Contrast_F\",\n",
    "    \"Dissimilarity_F\",\n",
    "    \"Homogeneity_F\",\n",
    "    \"Energy_F\",\n",
    "    \"Correlation_F\",\n",
    "    \"ASM_F\",\n",
    "]"
   ]
  },
  {
   "cell_type": "code",
   "execution_count": 22,
   "metadata": {},
   "outputs": [
    {
     "data": {
      "text/html": [
       "<div>\n",
       "<style scoped>\n",
       "    .dataframe tbody tr th:only-of-type {\n",
       "        vertical-align: middle;\n",
       "    }\n",
       "\n",
       "    .dataframe tbody tr th {\n",
       "        vertical-align: top;\n",
       "    }\n",
       "\n",
       "    .dataframe thead th {\n",
       "        text-align: right;\n",
       "    }\n",
       "</style>\n",
       "<table border=\"1\" class=\"dataframe\">\n",
       "  <thead>\n",
       "    <tr style=\"text-align: right;\">\n",
       "      <th></th>\n",
       "      <th>Contrast Feature</th>\n",
       "      <th>Dissimilarity Feature</th>\n",
       "      <th>Homogeneity Feature</th>\n",
       "      <th>Energy Feature</th>\n",
       "      <th>Correlation Feature</th>\n",
       "      <th>ASM Feature</th>\n",
       "    </tr>\n",
       "  </thead>\n",
       "  <tbody>\n",
       "    <tr>\n",
       "      <th>ImageID</th>\n",
       "      <td>0.581398</td>\n",
       "      <td>0.41804</td>\n",
       "      <td>0.807094</td>\n",
       "      <td>0.237395</td>\n",
       "      <td>0.95721</td>\n",
       "      <td>0.056443</td>\n",
       "    </tr>\n",
       "  </tbody>\n",
       "</table>\n",
       "</div>"
      ],
      "text/plain": [
       "         Contrast Feature  Dissimilarity Feature  Homogeneity Feature  \\\n",
       "ImageID          0.581398                0.41804             0.807094   \n",
       "\n",
       "         Energy Feature  Correlation Feature  ASM Feature  \n",
       "ImageID        0.237395              0.95721     0.056443  "
      ]
     },
     "execution_count": 22,
     "metadata": {},
     "output_type": "execute_result"
    }
   ],
   "source": [
    "df"
   ]
  }
 ],
 "metadata": {
  "kernelspec": {
   "display_name": ".venv",
   "language": "python",
   "name": "python3"
  },
  "language_info": {
   "codemirror_mode": {
    "name": "ipython",
    "version": 3
   },
   "file_extension": ".py",
   "mimetype": "text/x-python",
   "name": "python",
   "nbconvert_exporter": "python",
   "pygments_lexer": "ipython3",
   "version": "3.10.0"
  }
 },
 "nbformat": 4,
 "nbformat_minor": 4
}
